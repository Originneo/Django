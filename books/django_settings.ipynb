{
 "cells": [
  {
   "cell_type": "code",
   "execution_count": 39,
   "metadata": {},
   "outputs": [
    {
     "ename": "ImportError",
     "evalue": "cannot import name 'Choice' from 'sort_books.models' (/Users/kamilavalieva/books/sort_books/models.py)",
     "output_type": "error",
     "traceback": [
      "\u001b[0;31m---------------------------------------------------------------------------\u001b[0m",
      "\u001b[0;31mImportError\u001b[0m                               Traceback (most recent call last)",
      "\u001b[0;32m<ipython-input-39-4238e0ff3e84>\u001b[0m in \u001b[0;36m<module>\u001b[0;34m\u001b[0m\n\u001b[0;32m----> 1\u001b[0;31m \u001b[0;32mfrom\u001b[0m \u001b[0msort_books\u001b[0m\u001b[0;34m.\u001b[0m\u001b[0mmodels\u001b[0m \u001b[0;32mimport\u001b[0m \u001b[0mChoice\u001b[0m\u001b[0;34m,\u001b[0m \u001b[0mQuestion\u001b[0m\u001b[0;34m\u001b[0m\u001b[0;34m\u001b[0m\u001b[0m\n\u001b[0m",
      "\u001b[0;31mImportError\u001b[0m: cannot import name 'Choice' from 'sort_books.models' (/Users/kamilavalieva/books/sort_books/models.py)"
     ]
    }
   ],
   "source": [
    "from sort_books.models import Choice, Question"
   ]
  },
  {
   "cell_type": "code",
   "execution_count": 38,
   "metadata": {
    "code_folding": []
   },
   "outputs": [
    {
     "name": "stdout",
     "output_type": "stream",
     "text": [
      "Python 3.7.1 (default, Dec 14 2018, 13:28:58) \n",
      "[Clang 4.0.1 (tags/RELEASE_401/final)] on darwin\n",
      "Django 2.2\n"
     ]
    }
   ],
   "source": [
    "import sys, os\n",
    "print('Python %s on %s' % (sys.version, sys.platform))\n",
    "\n",
    "import django\n",
    "print('Django %s' % django.get_version())\n",
    "\n",
    "sys.path.insert(0, os.getenv('PWD'))\n",
    "os.environ.setdefault('DJANGO_SETTINGS_MODULE', 'books.settings')\n",
    "if 'setup' in dir(django):\n",
    "    django.setup()"
   ]
  },
  {
   "cell_type": "code",
   "execution_count": 35,
   "metadata": {},
   "outputs": [
    {
     "ename": "ImportError",
     "evalue": "cannot import name 'Foobar' from 'sort_books.models' (/Users/kamilavalieva/books/sort_books/models.py)",
     "output_type": "error",
     "traceback": [
      "\u001b[0;31m---------------------------------------------------------------------------\u001b[0m",
      "\u001b[0;31mImportError\u001b[0m                               Traceback (most recent call last)",
      "\u001b[0;32m<ipython-input-35-afef00d89531>\u001b[0m in \u001b[0;36m<module>\u001b[0;34m\u001b[0m\n\u001b[0;32m----> 1\u001b[0;31m \u001b[0;32mfrom\u001b[0m \u001b[0msort_books\u001b[0m\u001b[0;34m.\u001b[0m\u001b[0mmodels\u001b[0m \u001b[0;32mimport\u001b[0m \u001b[0mFoobar\u001b[0m\u001b[0;34m\u001b[0m\u001b[0;34m\u001b[0m\u001b[0m\n\u001b[0m",
      "\u001b[0;31mImportError\u001b[0m: cannot import name 'Foobar' from 'sort_books.models' (/Users/kamilavalieva/books/sort_books/models.py)"
     ]
    }
   ],
   "source": [
    "from sort_books.models import Foobar"
   ]
  },
  {
   "cell_type": "code",
   "execution_count": 25,
   "metadata": {},
   "outputs": [
    {
     "name": "stdout",
     "output_type": "stream",
     "text": [
      "Watching for file changes with StatReloader\n",
      "Performing system checks...\n",
      "\n",
      "System check identified no issues (0 silenced).\n",
      "\u001b[31m\n",
      "You have 17 unapplied migration(s). Your project may not work properly until you apply the migrations for app(s): admin, auth, contenttypes, sessions.\u001b[0m\n",
      "\u001b[31mRun 'python manage.py migrate' to apply them.\n",
      "\u001b[0m\n",
      "April 06, 2019 - 10:42:45\n",
      "Django version 2.2, using settings 'books.settings'\n",
      "Starting development server at http://127.0.0.1:8000/\n",
      "Quit the server with CONTROL-C.\n",
      "[06/Apr/2019 10:42:51] \u001b[m\"GET / HTTP/1.1\" 200 16348\u001b[0m\n",
      "[06/Apr/2019 10:42:51] \u001b[36m\"GET /static/admin/css/fonts.css HTTP/1.1\" 304 0\u001b[0m\n",
      "[06/Apr/2019 10:42:51] \u001b[36m\"GET /static/admin/fonts/Roboto-Light-webfont.woff HTTP/1.1\" 304 0\u001b[0m\n",
      "[06/Apr/2019 10:42:51] \u001b[36m\"GET /static/admin/fonts/Roboto-Regular-webfont.woff HTTP/1.1\" 304 0\u001b[0m\n",
      "[06/Apr/2019 10:42:51] \u001b[36m\"GET /static/admin/fonts/Roboto-Bold-webfont.woff HTTP/1.1\" 304 0\u001b[0m\n",
      "^C\n"
     ]
    }
   ],
   "source": [
    "!python manage.py runserver"
   ]
  },
  {
   "cell_type": "code",
   "execution_count": 40,
   "metadata": {},
   "outputs": [
    {
     "name": "stdout",
     "output_type": "stream",
     "text": [
      "The Zen of Python, by Tim Peters\n",
      "\n",
      "Beautiful is better than ugly.\n",
      "Explicit is better than implicit.\n",
      "Simple is better than complex.\n",
      "Complex is better than complicated.\n",
      "Flat is better than nested.\n",
      "Sparse is better than dense.\n",
      "Readability counts.\n",
      "Special cases aren't special enough to break the rules.\n",
      "Although practicality beats purity.\n",
      "Errors should never pass silently.\n",
      "Unless explicitly silenced.\n",
      "In the face of ambiguity, refuse the temptation to guess.\n",
      "There should be one-- and preferably only one --obvious way to do it.\n",
      "Although that way may not be obvious at first unless you're Dutch.\n",
      "Now is better than never.\n",
      "Although never is often better than *right* now.\n",
      "If the implementation is hard to explain, it's a bad idea.\n",
      "If the implementation is easy to explain, it may be a good idea.\n",
      "Namespaces are one honking great idea -- let's do more of those!\n"
     ]
    }
   ],
   "source": [
    "import this"
   ]
  },
  {
   "cell_type": "code",
   "execution_count": null,
   "metadata": {},
   "outputs": [],
   "source": []
  }
 ],
 "metadata": {
  "kernelspec": {
   "display_name": "Django Shell-Plus",
   "language": "python",
   "name": "django_extensions"
  },
  "language_info": {
   "codemirror_mode": {
    "name": "ipython",
    "version": 3
   },
   "file_extension": ".py",
   "mimetype": "text/x-python",
   "name": "python",
   "nbconvert_exporter": "python",
   "pygments_lexer": "ipython3",
   "version": "3.7.1"
  }
 },
 "nbformat": 4,
 "nbformat_minor": 2
}
